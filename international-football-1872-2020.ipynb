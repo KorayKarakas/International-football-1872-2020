{
 "cells": [
  {
   "cell_type": "code",
   "execution_count": 349,
   "metadata": {},
   "outputs": [
    {
     "data": {
      "text/html": [
       "<div>\n",
       "<style scoped>\n",
       "    .dataframe tbody tr th:only-of-type {\n",
       "        vertical-align: middle;\n",
       "    }\n",
       "\n",
       "    .dataframe tbody tr th {\n",
       "        vertical-align: top;\n",
       "    }\n",
       "\n",
       "    .dataframe thead th {\n",
       "        text-align: right;\n",
       "    }\n",
       "</style>\n",
       "<table border=\"1\" class=\"dataframe\">\n",
       "  <thead>\n",
       "    <tr style=\"text-align: right;\">\n",
       "      <th></th>\n",
       "      <th>date</th>\n",
       "      <th>home_team</th>\n",
       "      <th>away_team</th>\n",
       "      <th>home_score</th>\n",
       "      <th>away_score</th>\n",
       "      <th>tournament</th>\n",
       "      <th>city</th>\n",
       "      <th>country</th>\n",
       "      <th>neutral</th>\n",
       "    </tr>\n",
       "  </thead>\n",
       "  <tbody>\n",
       "    <tr>\n",
       "      <th>0</th>\n",
       "      <td>1872-11-30</td>\n",
       "      <td>Scotland</td>\n",
       "      <td>England</td>\n",
       "      <td>0</td>\n",
       "      <td>0</td>\n",
       "      <td>Friendly</td>\n",
       "      <td>Glasgow</td>\n",
       "      <td>Scotland</td>\n",
       "      <td>False</td>\n",
       "    </tr>\n",
       "    <tr>\n",
       "      <th>1</th>\n",
       "      <td>1873-03-08</td>\n",
       "      <td>England</td>\n",
       "      <td>Scotland</td>\n",
       "      <td>4</td>\n",
       "      <td>2</td>\n",
       "      <td>Friendly</td>\n",
       "      <td>London</td>\n",
       "      <td>England</td>\n",
       "      <td>False</td>\n",
       "    </tr>\n",
       "    <tr>\n",
       "      <th>2</th>\n",
       "      <td>1874-03-07</td>\n",
       "      <td>Scotland</td>\n",
       "      <td>England</td>\n",
       "      <td>2</td>\n",
       "      <td>1</td>\n",
       "      <td>Friendly</td>\n",
       "      <td>Glasgow</td>\n",
       "      <td>Scotland</td>\n",
       "      <td>False</td>\n",
       "    </tr>\n",
       "    <tr>\n",
       "      <th>3</th>\n",
       "      <td>1875-03-06</td>\n",
       "      <td>England</td>\n",
       "      <td>Scotland</td>\n",
       "      <td>2</td>\n",
       "      <td>2</td>\n",
       "      <td>Friendly</td>\n",
       "      <td>London</td>\n",
       "      <td>England</td>\n",
       "      <td>False</td>\n",
       "    </tr>\n",
       "    <tr>\n",
       "      <th>4</th>\n",
       "      <td>1876-03-04</td>\n",
       "      <td>Scotland</td>\n",
       "      <td>England</td>\n",
       "      <td>3</td>\n",
       "      <td>0</td>\n",
       "      <td>Friendly</td>\n",
       "      <td>Glasgow</td>\n",
       "      <td>Scotland</td>\n",
       "      <td>False</td>\n",
       "    </tr>\n",
       "    <tr>\n",
       "      <th>...</th>\n",
       "      <td>...</td>\n",
       "      <td>...</td>\n",
       "      <td>...</td>\n",
       "      <td>...</td>\n",
       "      <td>...</td>\n",
       "      <td>...</td>\n",
       "      <td>...</td>\n",
       "      <td>...</td>\n",
       "      <td>...</td>\n",
       "    </tr>\n",
       "    <tr>\n",
       "      <th>41841</th>\n",
       "      <td>2020-11-18</td>\n",
       "      <td>Kosovo</td>\n",
       "      <td>Moldova</td>\n",
       "      <td>1</td>\n",
       "      <td>0</td>\n",
       "      <td>UEFA Nations League</td>\n",
       "      <td>Pristina</td>\n",
       "      <td>Kosovo</td>\n",
       "      <td>False</td>\n",
       "    </tr>\n",
       "    <tr>\n",
       "      <th>41842</th>\n",
       "      <td>2020-11-18</td>\n",
       "      <td>Greece</td>\n",
       "      <td>Slovenia</td>\n",
       "      <td>0</td>\n",
       "      <td>0</td>\n",
       "      <td>UEFA Nations League</td>\n",
       "      <td>Athens</td>\n",
       "      <td>Greece</td>\n",
       "      <td>False</td>\n",
       "    </tr>\n",
       "    <tr>\n",
       "      <th>41843</th>\n",
       "      <td>2020-11-18</td>\n",
       "      <td>Albania</td>\n",
       "      <td>Belarus</td>\n",
       "      <td>3</td>\n",
       "      <td>2</td>\n",
       "      <td>UEFA Nations League</td>\n",
       "      <td>Tirana</td>\n",
       "      <td>Albania</td>\n",
       "      <td>False</td>\n",
       "    </tr>\n",
       "    <tr>\n",
       "      <th>41844</th>\n",
       "      <td>2020-11-18</td>\n",
       "      <td>Kazakhstan</td>\n",
       "      <td>Lithuania</td>\n",
       "      <td>1</td>\n",
       "      <td>2</td>\n",
       "      <td>UEFA Nations League</td>\n",
       "      <td>Almaty</td>\n",
       "      <td>Kazakhstan</td>\n",
       "      <td>False</td>\n",
       "    </tr>\n",
       "    <tr>\n",
       "      <th>41845</th>\n",
       "      <td>2020-12-09</td>\n",
       "      <td>United States</td>\n",
       "      <td>El Salvador</td>\n",
       "      <td>6</td>\n",
       "      <td>0</td>\n",
       "      <td>Friendly</td>\n",
       "      <td>Fort Lauderdale</td>\n",
       "      <td>United States</td>\n",
       "      <td>False</td>\n",
       "    </tr>\n",
       "  </tbody>\n",
       "</table>\n",
       "<p>41846 rows × 9 columns</p>\n",
       "</div>"
      ],
      "text/plain": [
       "             date      home_team    away_team  home_score  away_score  \\\n",
       "0      1872-11-30       Scotland      England           0           0   \n",
       "1      1873-03-08        England     Scotland           4           2   \n",
       "2      1874-03-07       Scotland      England           2           1   \n",
       "3      1875-03-06        England     Scotland           2           2   \n",
       "4      1876-03-04       Scotland      England           3           0   \n",
       "...           ...            ...          ...         ...         ...   \n",
       "41841  2020-11-18         Kosovo      Moldova           1           0   \n",
       "41842  2020-11-18         Greece     Slovenia           0           0   \n",
       "41843  2020-11-18        Albania      Belarus           3           2   \n",
       "41844  2020-11-18     Kazakhstan    Lithuania           1           2   \n",
       "41845  2020-12-09  United States  El Salvador           6           0   \n",
       "\n",
       "                tournament             city        country  neutral  \n",
       "0                 Friendly          Glasgow       Scotland    False  \n",
       "1                 Friendly           London        England    False  \n",
       "2                 Friendly          Glasgow       Scotland    False  \n",
       "3                 Friendly           London        England    False  \n",
       "4                 Friendly          Glasgow       Scotland    False  \n",
       "...                    ...              ...            ...      ...  \n",
       "41841  UEFA Nations League         Pristina         Kosovo    False  \n",
       "41842  UEFA Nations League           Athens         Greece    False  \n",
       "41843  UEFA Nations League           Tirana        Albania    False  \n",
       "41844  UEFA Nations League           Almaty     Kazakhstan    False  \n",
       "41845             Friendly  Fort Lauderdale  United States    False  \n",
       "\n",
       "[41846 rows x 9 columns]"
      ]
     },
     "execution_count": 349,
     "metadata": {},
     "output_type": "execute_result"
    }
   ],
   "source": [
    "import pandas as pd\n",
    "import numpy as np\n",
    "import seaborn as sns\n",
    "import matplotlib.pyplot as plt\n",
    "%matplotlib inline\n",
    "\n",
    "df = pd.read_csv(\"./internationalfootball.csv\")\n",
    "\n",
    "#Taking a look at the dataframe\n",
    "\n",
    "df"
   ]
  },
  {
   "cell_type": "code",
   "execution_count": 350,
   "metadata": {},
   "outputs": [
    {
     "data": {
      "text/plain": [
       "0"
      ]
     },
     "execution_count": 350,
     "metadata": {},
     "output_type": "execute_result"
    }
   ],
   "source": [
    "# Checking for duplicates, null counts and data types\n",
    "\n",
    "df.duplicated().values.sum()"
   ]
  },
  {
   "cell_type": "code",
   "execution_count": 351,
   "metadata": {},
   "outputs": [
    {
     "name": "stdout",
     "output_type": "stream",
     "text": [
      "<class 'pandas.core.frame.DataFrame'>\n",
      "RangeIndex: 41846 entries, 0 to 41845\n",
      "Data columns (total 9 columns):\n",
      " #   Column      Non-Null Count  Dtype \n",
      "---  ------      --------------  ----- \n",
      " 0   date        41846 non-null  object\n",
      " 1   home_team   41846 non-null  object\n",
      " 2   away_team   41846 non-null  object\n",
      " 3   home_score  41846 non-null  int64 \n",
      " 4   away_score  41846 non-null  int64 \n",
      " 5   tournament  41846 non-null  object\n",
      " 6   city        41846 non-null  object\n",
      " 7   country     41846 non-null  object\n",
      " 8   neutral     41846 non-null  bool  \n",
      "dtypes: bool(1), int64(2), object(6)\n",
      "memory usage: 2.6+ MB\n"
     ]
    }
   ],
   "source": [
    "df.info(verbose=True, null_counts=True)"
   ]
  },
  {
   "cell_type": "code",
   "execution_count": 352,
   "metadata": {},
   "outputs": [],
   "source": [
    "# 'date' column in original dataset is of type object. Changing the type of 'date' to datetime for time-series analysis.\n",
    "\n",
    "df['date'] = pd.to_datetime(df['date'])"
   ]
  },
  {
   "cell_type": "code",
   "execution_count": 353,
   "metadata": {},
   "outputs": [
    {
     "name": "stdout",
     "output_type": "stream",
     "text": [
      "<class 'pandas.core.frame.DataFrame'>\n",
      "RangeIndex: 41846 entries, 0 to 41845\n",
      "Data columns (total 9 columns):\n",
      " #   Column      Non-Null Count  Dtype         \n",
      "---  ------      --------------  -----         \n",
      " 0   date        41846 non-null  datetime64[ns]\n",
      " 1   home_team   41846 non-null  object        \n",
      " 2   away_team   41846 non-null  object        \n",
      " 3   home_score  41846 non-null  int64         \n",
      " 4   away_score  41846 non-null  int64         \n",
      " 5   tournament  41846 non-null  object        \n",
      " 6   city        41846 non-null  object        \n",
      " 7   country     41846 non-null  object        \n",
      " 8   neutral     41846 non-null  bool          \n",
      "dtypes: bool(1), datetime64[ns](1), int64(2), object(5)\n",
      "memory usage: 2.6+ MB\n"
     ]
    }
   ],
   "source": [
    "df.info(verbose = True, null_counts = True)"
   ]
  },
  {
   "cell_type": "code",
   "execution_count": 354,
   "metadata": {},
   "outputs": [
    {
     "data": {
      "text/html": [
       "<div>\n",
       "<style scoped>\n",
       "    .dataframe tbody tr th:only-of-type {\n",
       "        vertical-align: middle;\n",
       "    }\n",
       "\n",
       "    .dataframe tbody tr th {\n",
       "        vertical-align: top;\n",
       "    }\n",
       "\n",
       "    .dataframe thead th {\n",
       "        text-align: right;\n",
       "    }\n",
       "</style>\n",
       "<table border=\"1\" class=\"dataframe\">\n",
       "  <thead>\n",
       "    <tr style=\"text-align: right;\">\n",
       "      <th></th>\n",
       "      <th>date</th>\n",
       "      <th>home_team</th>\n",
       "      <th>away_team</th>\n",
       "      <th>home_score</th>\n",
       "      <th>away_score</th>\n",
       "      <th>tournament</th>\n",
       "      <th>city</th>\n",
       "      <th>country</th>\n",
       "      <th>neutral</th>\n",
       "      <th>total_score</th>\n",
       "      <th>result</th>\n",
       "    </tr>\n",
       "  </thead>\n",
       "  <tbody>\n",
       "    <tr>\n",
       "      <th>0</th>\n",
       "      <td>1872-11-30</td>\n",
       "      <td>Scotland</td>\n",
       "      <td>England</td>\n",
       "      <td>0</td>\n",
       "      <td>0</td>\n",
       "      <td>Friendly</td>\n",
       "      <td>Glasgow</td>\n",
       "      <td>Scotland</td>\n",
       "      <td>False</td>\n",
       "      <td>0</td>\n",
       "      <td>Draw</td>\n",
       "    </tr>\n",
       "    <tr>\n",
       "      <th>1</th>\n",
       "      <td>1873-03-08</td>\n",
       "      <td>England</td>\n",
       "      <td>Scotland</td>\n",
       "      <td>4</td>\n",
       "      <td>2</td>\n",
       "      <td>Friendly</td>\n",
       "      <td>London</td>\n",
       "      <td>England</td>\n",
       "      <td>False</td>\n",
       "      <td>6</td>\n",
       "      <td>England</td>\n",
       "    </tr>\n",
       "    <tr>\n",
       "      <th>2</th>\n",
       "      <td>1874-03-07</td>\n",
       "      <td>Scotland</td>\n",
       "      <td>England</td>\n",
       "      <td>2</td>\n",
       "      <td>1</td>\n",
       "      <td>Friendly</td>\n",
       "      <td>Glasgow</td>\n",
       "      <td>Scotland</td>\n",
       "      <td>False</td>\n",
       "      <td>3</td>\n",
       "      <td>Scotland</td>\n",
       "    </tr>\n",
       "    <tr>\n",
       "      <th>3</th>\n",
       "      <td>1875-03-06</td>\n",
       "      <td>England</td>\n",
       "      <td>Scotland</td>\n",
       "      <td>2</td>\n",
       "      <td>2</td>\n",
       "      <td>Friendly</td>\n",
       "      <td>London</td>\n",
       "      <td>England</td>\n",
       "      <td>False</td>\n",
       "      <td>4</td>\n",
       "      <td>Draw</td>\n",
       "    </tr>\n",
       "    <tr>\n",
       "      <th>4</th>\n",
       "      <td>1876-03-04</td>\n",
       "      <td>Scotland</td>\n",
       "      <td>England</td>\n",
       "      <td>3</td>\n",
       "      <td>0</td>\n",
       "      <td>Friendly</td>\n",
       "      <td>Glasgow</td>\n",
       "      <td>Scotland</td>\n",
       "      <td>False</td>\n",
       "      <td>3</td>\n",
       "      <td>Scotland</td>\n",
       "    </tr>\n",
       "  </tbody>\n",
       "</table>\n",
       "</div>"
      ],
      "text/plain": [
       "        date home_team away_team  home_score  away_score tournament     city  \\\n",
       "0 1872-11-30  Scotland   England           0           0   Friendly  Glasgow   \n",
       "1 1873-03-08   England  Scotland           4           2   Friendly   London   \n",
       "2 1874-03-07  Scotland   England           2           1   Friendly  Glasgow   \n",
       "3 1875-03-06   England  Scotland           2           2   Friendly   London   \n",
       "4 1876-03-04  Scotland   England           3           0   Friendly  Glasgow   \n",
       "\n",
       "    country  neutral  total_score    result  \n",
       "0  Scotland    False            0      Draw  \n",
       "1   England    False            6   England  \n",
       "2  Scotland    False            3  Scotland  \n",
       "3   England    False            4      Draw  \n",
       "4  Scotland    False            3  Scotland  "
      ]
     },
     "execution_count": 354,
     "metadata": {},
     "output_type": "execute_result"
    }
   ],
   "source": [
    "# Adding columns that display the result and total score of each game \n",
    "\n",
    "df[\"total_score\"] = (df[\"home_score\"] + df[\"away_score\"]).astype(int)\n",
    "\n",
    "conditions = [(df['home_score'] > df['away_score']),\n",
    "              (df['home_score'] < df['away_score']),\n",
    "              (df['home_score'] == df['away_score'])]\n",
    "\n",
    "results = [df.home_team, df.away_team, \"Draw\"]\n",
    "\n",
    "df['result'] = np.select(conditions, results)\n",
    "\n",
    "df.head()"
   ]
  },
  {
   "cell_type": "code",
   "execution_count": 355,
   "metadata": {},
   "outputs": [
    {
     "data": {
      "text/plain": [
       "'1. WHICH INTERNATIONAL TEAM HAS WON THE MOST GAMES IN WORLD CUP COMPETITIONS?'"
      ]
     },
     "execution_count": 355,
     "metadata": {},
     "output_type": "execute_result"
    }
   ],
   "source": [
    "'''1. WHICH INTERNATIONAL TEAM HAS WON THE MOST GAMES IN WORLD CUP COMPETITIONS?'''"
   ]
  },
  {
   "cell_type": "code",
   "execution_count": 356,
   "metadata": {},
   "outputs": [
    {
     "data": {
      "text/plain": [
       "Draw           199\n",
       "Brazil          73\n",
       "Germany         67\n",
       "Italy           45\n",
       "Argentina       43\n",
       "France          34\n",
       "Spain           30\n",
       "England         29\n",
       "Netherlands     27\n",
       "Uruguay         24\n",
       "Belgium         20\n",
       "Sweden          19\n",
       "Russia          19\n",
       "Poland          16\n",
       "Mexico          16\n",
       "Hungary         15\n",
       "Portugal        14\n",
       "Yugoslavia      14\n",
       "Austria         12\n",
       "Switzerland     12\n",
       "Name: result, dtype: int64"
      ]
     },
     "execution_count": 356,
     "metadata": {},
     "output_type": "execute_result"
    }
   ],
   "source": [
    "df_wc = df.loc[df.tournament == \"FIFA World Cup\"]\n",
    "\n",
    "df_wc_results = df_wc['result'].value_counts().head(20)\n",
    "df_wc_results"
   ]
  },
  {
   "cell_type": "code",
   "execution_count": 357,
   "metadata": {},
   "outputs": [],
   "source": [
    "'''Brazil leads all international teams in the number of wins in world cup competitions with 73 victories.\n",
    " Germany are the second winningest team with 67 victories and Italy are third with 45. Although the most common result is\n",
    " a draw, this can be misleading and is a rather meaningless number because it isnt specified per country, but rather a \n",
    " combination of all matches that ended in a draw.'''\n",
    "\n",
    "df_wc_wins = df_wc_results.drop(['Draw'])\n"
   ]
  },
  {
   "cell_type": "code",
   "execution_count": 358,
   "metadata": {},
   "outputs": [
    {
     "data": {
      "text/plain": [
       "<matplotlib.axes._subplots.AxesSubplot at 0x1a2a8d56d0>"
      ]
     },
     "execution_count": 358,
     "metadata": {},
     "output_type": "execute_result"
    },
    {
     "data": {
      "image/png": "[encoded data removed]",
      "text/plain": [
       "<Figure size 1152x432 with 1 Axes>"
      ]
     },
     "metadata": {
      "needs_background": "light"
     },
     "output_type": "display_data"
    }
   ],
   "source": [
    "df_wc_wins.plot.bar(figsize = (16,6), color='g')"
   ]
  },
  {
   "cell_type": "code",
   "execution_count": 359,
   "metadata": {},
   "outputs": [
    {
     "data": {
      "text/plain": [
       "'2. WHICH INTERNATIONAL TEAM HAS WON THE MOST GAMES IN EUROS?'"
      ]
     },
     "execution_count": 359,
     "metadata": {},
     "output_type": "execute_result"
    }
   ],
   "source": [
    "'''2. WHICH INTERNATIONAL TEAM HAS WON THE MOST GAMES IN EUROS?'''\n"
   ]
  },
  {
   "cell_type": "code",
   "execution_count": 360,
   "metadata": {},
   "outputs": [
    {
     "data": {
      "text/html": [
       "<div>\n",
       "<style scoped>\n",
       "    .dataframe tbody tr th:only-of-type {\n",
       "        vertical-align: middle;\n",
       "    }\n",
       "\n",
       "    .dataframe tbody tr th {\n",
       "        vertical-align: top;\n",
       "    }\n",
       "\n",
       "    .dataframe thead th {\n",
       "        text-align: right;\n",
       "    }\n",
       "</style>\n",
       "<table border=\"1\" class=\"dataframe\">\n",
       "  <thead>\n",
       "    <tr style=\"text-align: right;\">\n",
       "      <th></th>\n",
       "      <th>date</th>\n",
       "      <th>home_team</th>\n",
       "      <th>away_team</th>\n",
       "      <th>home_score</th>\n",
       "      <th>away_score</th>\n",
       "      <th>tournament</th>\n",
       "      <th>city</th>\n",
       "      <th>country</th>\n",
       "      <th>neutral</th>\n",
       "      <th>total_score</th>\n",
       "      <th>result</th>\n",
       "    </tr>\n",
       "  </thead>\n",
       "  <tbody>\n",
       "    <tr>\n",
       "      <th>4731</th>\n",
       "      <td>1960-07-06</td>\n",
       "      <td>Czechoslovakia</td>\n",
       "      <td>Russia</td>\n",
       "      <td>0</td>\n",
       "      <td>3</td>\n",
       "      <td>UEFA Euro</td>\n",
       "      <td>Marseille</td>\n",
       "      <td>France</td>\n",
       "      <td>True</td>\n",
       "      <td>3</td>\n",
       "      <td>Russia</td>\n",
       "    </tr>\n",
       "    <tr>\n",
       "      <th>4732</th>\n",
       "      <td>1960-07-06</td>\n",
       "      <td>France</td>\n",
       "      <td>Yugoslavia</td>\n",
       "      <td>4</td>\n",
       "      <td>5</td>\n",
       "      <td>UEFA Euro</td>\n",
       "      <td>Paris</td>\n",
       "      <td>France</td>\n",
       "      <td>False</td>\n",
       "      <td>9</td>\n",
       "      <td>Yugoslavia</td>\n",
       "    </tr>\n",
       "    <tr>\n",
       "      <th>4734</th>\n",
       "      <td>1960-07-09</td>\n",
       "      <td>France</td>\n",
       "      <td>Czechoslovakia</td>\n",
       "      <td>0</td>\n",
       "      <td>2</td>\n",
       "      <td>UEFA Euro</td>\n",
       "      <td>Marseille</td>\n",
       "      <td>France</td>\n",
       "      <td>False</td>\n",
       "      <td>2</td>\n",
       "      <td>Czechoslovakia</td>\n",
       "    </tr>\n",
       "    <tr>\n",
       "      <th>4739</th>\n",
       "      <td>1960-07-10</td>\n",
       "      <td>Russia</td>\n",
       "      <td>Yugoslavia</td>\n",
       "      <td>2</td>\n",
       "      <td>1</td>\n",
       "      <td>UEFA Euro</td>\n",
       "      <td>Paris</td>\n",
       "      <td>France</td>\n",
       "      <td>True</td>\n",
       "      <td>3</td>\n",
       "      <td>Russia</td>\n",
       "    </tr>\n",
       "    <tr>\n",
       "      <th>5628</th>\n",
       "      <td>1964-06-17</td>\n",
       "      <td>Denmark</td>\n",
       "      <td>Russia</td>\n",
       "      <td>0</td>\n",
       "      <td>3</td>\n",
       "      <td>UEFA Euro</td>\n",
       "      <td>Barcelona</td>\n",
       "      <td>Spain</td>\n",
       "      <td>True</td>\n",
       "      <td>3</td>\n",
       "      <td>Russia</td>\n",
       "    </tr>\n",
       "    <tr>\n",
       "      <th>...</th>\n",
       "      <td>...</td>\n",
       "      <td>...</td>\n",
       "      <td>...</td>\n",
       "      <td>...</td>\n",
       "      <td>...</td>\n",
       "      <td>...</td>\n",
       "      <td>...</td>\n",
       "      <td>...</td>\n",
       "      <td>...</td>\n",
       "      <td>...</td>\n",
       "      <td>...</td>\n",
       "    </tr>\n",
       "    <tr>\n",
       "      <th>38147</th>\n",
       "      <td>2016-07-02</td>\n",
       "      <td>Germany</td>\n",
       "      <td>Italy</td>\n",
       "      <td>1</td>\n",
       "      <td>1</td>\n",
       "      <td>UEFA Euro</td>\n",
       "      <td>Bordeaux</td>\n",
       "      <td>France</td>\n",
       "      <td>True</td>\n",
       "      <td>2</td>\n",
       "      <td>Draw</td>\n",
       "    </tr>\n",
       "    <tr>\n",
       "      <th>38150</th>\n",
       "      <td>2016-07-03</td>\n",
       "      <td>France</td>\n",
       "      <td>Iceland</td>\n",
       "      <td>5</td>\n",
       "      <td>2</td>\n",
       "      <td>UEFA Euro</td>\n",
       "      <td>Saint-Denis</td>\n",
       "      <td>France</td>\n",
       "      <td>False</td>\n",
       "      <td>7</td>\n",
       "      <td>France</td>\n",
       "    </tr>\n",
       "    <tr>\n",
       "      <th>38152</th>\n",
       "      <td>2016-07-06</td>\n",
       "      <td>Portugal</td>\n",
       "      <td>Wales</td>\n",
       "      <td>2</td>\n",
       "      <td>0</td>\n",
       "      <td>UEFA Euro</td>\n",
       "      <td>Lyon</td>\n",
       "      <td>France</td>\n",
       "      <td>True</td>\n",
       "      <td>2</td>\n",
       "      <td>Portugal</td>\n",
       "    </tr>\n",
       "    <tr>\n",
       "      <th>38153</th>\n",
       "      <td>2016-07-07</td>\n",
       "      <td>France</td>\n",
       "      <td>Germany</td>\n",
       "      <td>2</td>\n",
       "      <td>0</td>\n",
       "      <td>UEFA Euro</td>\n",
       "      <td>Marseille</td>\n",
       "      <td>France</td>\n",
       "      <td>False</td>\n",
       "      <td>2</td>\n",
       "      <td>France</td>\n",
       "    </tr>\n",
       "    <tr>\n",
       "      <th>38154</th>\n",
       "      <td>2016-07-10</td>\n",
       "      <td>France</td>\n",
       "      <td>Portugal</td>\n",
       "      <td>0</td>\n",
       "      <td>1</td>\n",
       "      <td>UEFA Euro</td>\n",
       "      <td>Saint-Denis</td>\n",
       "      <td>France</td>\n",
       "      <td>False</td>\n",
       "      <td>1</td>\n",
       "      <td>Portugal</td>\n",
       "    </tr>\n",
       "  </tbody>\n",
       "</table>\n",
       "<p>286 rows × 11 columns</p>\n",
       "</div>"
      ],
      "text/plain": [
       "            date       home_team       away_team  home_score  away_score  \\\n",
       "4731  1960-07-06  Czechoslovakia          Russia           0           3   \n",
       "4732  1960-07-06          France      Yugoslavia           4           5   \n",
       "4734  1960-07-09          France  Czechoslovakia           0           2   \n",
       "4739  1960-07-10          Russia      Yugoslavia           2           1   \n",
       "5628  1964-06-17         Denmark          Russia           0           3   \n",
       "...          ...             ...             ...         ...         ...   \n",
       "38147 2016-07-02         Germany           Italy           1           1   \n",
       "38150 2016-07-03          France         Iceland           5           2   \n",
       "38152 2016-07-06        Portugal           Wales           2           0   \n",
       "38153 2016-07-07          France         Germany           2           0   \n",
       "38154 2016-07-10          France        Portugal           0           1   \n",
       "\n",
       "      tournament         city country  neutral  total_score          result  \n",
       "4731   UEFA Euro    Marseille  France     True            3          Russia  \n",
       "4732   UEFA Euro        Paris  France    False            9      Yugoslavia  \n",
       "4734   UEFA Euro    Marseille  France    False            2  Czechoslovakia  \n",
       "4739   UEFA Euro        Paris  France     True            3          Russia  \n",
       "5628   UEFA Euro    Barcelona   Spain     True            3          Russia  \n",
       "...          ...          ...     ...      ...          ...             ...  \n",
       "38147  UEFA Euro     Bordeaux  France     True            2            Draw  \n",
       "38150  UEFA Euro  Saint-Denis  France    False            7          France  \n",
       "38152  UEFA Euro         Lyon  France     True            2        Portugal  \n",
       "38153  UEFA Euro    Marseille  France    False            2          France  \n",
       "38154  UEFA Euro  Saint-Denis  France    False            1        Portugal  \n",
       "\n",
       "[286 rows x 11 columns]"
      ]
     },
     "execution_count": 360,
     "metadata": {},
     "output_type": "execute_result"
    }
   ],
   "source": [
    "df_euros = df.loc[df.tournament == \"UEFA Euro\"]\n",
    "df_euros"
   ]
  },
  {
   "cell_type": "code",
   "execution_count": 361,
   "metadata": {},
   "outputs": [
    {
     "data": {
      "text/plain": [
       "Draw              73\n",
       "Germany           26\n",
       "France            20\n",
       "Spain             19\n",
       "Portugal          18\n",
       "Netherlands       17\n",
       "Italy             16\n",
       "Russia            12\n",
       "England           10\n",
       "Czech Republic    10\n",
       "Croatia            8\n",
       "Denmark            7\n",
       "Belgium            7\n",
       "Sweden             5\n",
       "Greece             5\n",
       "Turkey             4\n",
       "Wales              4\n",
       "Czechoslovakia     3\n",
       "Switzerland        2\n",
       "Poland             2\n",
       "Name: result, dtype: int64"
      ]
     },
     "execution_count": 361,
     "metadata": {},
     "output_type": "execute_result"
    }
   ],
   "source": [
    "df_euros_results = df_euros['result'].value_counts().head(20)\n",
    "df_euros_results"
   ]
  },
  {
   "cell_type": "code",
   "execution_count": 362,
   "metadata": {},
   "outputs": [
    {
     "data": {
      "text/plain": [
       "Germany           26\n",
       "France            20\n",
       "Spain             19\n",
       "Portugal          18\n",
       "Netherlands       17\n",
       "Italy             16\n",
       "Russia            12\n",
       "England           10\n",
       "Czech Republic    10\n",
       "Croatia            8\n",
       "Denmark            7\n",
       "Belgium            7\n",
       "Sweden             5\n",
       "Greece             5\n",
       "Turkey             4\n",
       "Wales              4\n",
       "Czechoslovakia     3\n",
       "Switzerland        2\n",
       "Poland             2\n",
       "Name: result, dtype: int64"
      ]
     },
     "execution_count": 362,
     "metadata": {},
     "output_type": "execute_result"
    }
   ],
   "source": [
    "df_euros_wins = df_euros_results.drop(['Draw'])\n",
    "df_euros_wins"
   ]
  },
  {
   "cell_type": "code",
   "execution_count": 363,
   "metadata": {},
   "outputs": [
    {
     "data": {
      "text/plain": [
       "<matplotlib.axes._subplots.AxesSubplot at 0x1a2c080450>"
      ]
     },
     "execution_count": 363,
     "metadata": {},
     "output_type": "execute_result"
    },
    {
     "data": {
      "image/png": "[encoded data removed]",
      "text/plain": [
       "<Figure size 1152x432 with 1 Axes>"
      ]
     },
     "metadata": {
      "needs_background": "light"
     },
     "output_type": "display_data"
    }
   ],
   "source": [
    "df_euros_wins.plot.bar(figsize = (16,6), color='b')"
   ]
  },
  {
   "cell_type": "code",
   "execution_count": 364,
   "metadata": {},
   "outputs": [
    {
     "data": {
      "text/plain": [
       "'3. AVERAGE GOALS SCORED PER GAME IN EACH WORLD CUP'"
      ]
     },
     "execution_count": 364,
     "metadata": {},
     "output_type": "execute_result"
    }
   ],
   "source": [
    "'''3. AVERAGE GOALS SCORED PER GAME IN EACH WORLD CUP'''"
   ]
  },
  {
   "cell_type": "code",
   "execution_count": 365,
   "metadata": {},
   "outputs": [
    {
     "data": {
      "text/html": [
       "<div>\n",
       "<style scoped>\n",
       "    .dataframe tbody tr th:only-of-type {\n",
       "        vertical-align: middle;\n",
       "    }\n",
       "\n",
       "    .dataframe tbody tr th {\n",
       "        vertical-align: top;\n",
       "    }\n",
       "\n",
       "    .dataframe thead th {\n",
       "        text-align: right;\n",
       "    }\n",
       "</style>\n",
       "<table border=\"1\" class=\"dataframe\">\n",
       "  <thead>\n",
       "    <tr style=\"text-align: right;\">\n",
       "      <th></th>\n",
       "      <th>home_team</th>\n",
       "      <th>away_team</th>\n",
       "      <th>home_score</th>\n",
       "      <th>away_score</th>\n",
       "      <th>tournament</th>\n",
       "      <th>city</th>\n",
       "      <th>country</th>\n",
       "      <th>neutral</th>\n",
       "      <th>total_score</th>\n",
       "      <th>result</th>\n",
       "    </tr>\n",
       "    <tr>\n",
       "      <th>date</th>\n",
       "      <th></th>\n",
       "      <th></th>\n",
       "      <th></th>\n",
       "      <th></th>\n",
       "      <th></th>\n",
       "      <th></th>\n",
       "      <th></th>\n",
       "      <th></th>\n",
       "      <th></th>\n",
       "      <th></th>\n",
       "    </tr>\n",
       "  </thead>\n",
       "  <tbody>\n",
       "    <tr>\n",
       "      <th>1930-07-13</th>\n",
       "      <td>Belgium</td>\n",
       "      <td>United States</td>\n",
       "      <td>0</td>\n",
       "      <td>3</td>\n",
       "      <td>FIFA World Cup</td>\n",
       "      <td>Montevideo</td>\n",
       "      <td>Uruguay</td>\n",
       "      <td>True</td>\n",
       "      <td>3</td>\n",
       "      <td>United States</td>\n",
       "    </tr>\n",
       "    <tr>\n",
       "      <th>1930-07-13</th>\n",
       "      <td>France</td>\n",
       "      <td>Mexico</td>\n",
       "      <td>4</td>\n",
       "      <td>1</td>\n",
       "      <td>FIFA World Cup</td>\n",
       "      <td>Montevideo</td>\n",
       "      <td>Uruguay</td>\n",
       "      <td>True</td>\n",
       "      <td>5</td>\n",
       "      <td>France</td>\n",
       "    </tr>\n",
       "    <tr>\n",
       "      <th>1930-07-14</th>\n",
       "      <td>Brazil</td>\n",
       "      <td>Yugoslavia</td>\n",
       "      <td>1</td>\n",
       "      <td>2</td>\n",
       "      <td>FIFA World Cup</td>\n",
       "      <td>Montevideo</td>\n",
       "      <td>Uruguay</td>\n",
       "      <td>True</td>\n",
       "      <td>3</td>\n",
       "      <td>Yugoslavia</td>\n",
       "    </tr>\n",
       "    <tr>\n",
       "      <th>1930-07-14</th>\n",
       "      <td>Peru</td>\n",
       "      <td>Romania</td>\n",
       "      <td>1</td>\n",
       "      <td>3</td>\n",
       "      <td>FIFA World Cup</td>\n",
       "      <td>Montevideo</td>\n",
       "      <td>Uruguay</td>\n",
       "      <td>True</td>\n",
       "      <td>4</td>\n",
       "      <td>Romania</td>\n",
       "    </tr>\n",
       "    <tr>\n",
       "      <th>1930-07-15</th>\n",
       "      <td>Argentina</td>\n",
       "      <td>France</td>\n",
       "      <td>1</td>\n",
       "      <td>0</td>\n",
       "      <td>FIFA World Cup</td>\n",
       "      <td>Montevideo</td>\n",
       "      <td>Uruguay</td>\n",
       "      <td>True</td>\n",
       "      <td>1</td>\n",
       "      <td>Argentina</td>\n",
       "    </tr>\n",
       "    <tr>\n",
       "      <th>...</th>\n",
       "      <td>...</td>\n",
       "      <td>...</td>\n",
       "      <td>...</td>\n",
       "      <td>...</td>\n",
       "      <td>...</td>\n",
       "      <td>...</td>\n",
       "      <td>...</td>\n",
       "      <td>...</td>\n",
       "      <td>...</td>\n",
       "      <td>...</td>\n",
       "    </tr>\n",
       "    <tr>\n",
       "      <th>2018-07-07</th>\n",
       "      <td>Russia</td>\n",
       "      <td>Croatia</td>\n",
       "      <td>2</td>\n",
       "      <td>2</td>\n",
       "      <td>FIFA World Cup</td>\n",
       "      <td>Sochi</td>\n",
       "      <td>Russia</td>\n",
       "      <td>False</td>\n",
       "      <td>4</td>\n",
       "      <td>Draw</td>\n",
       "    </tr>\n",
       "    <tr>\n",
       "      <th>2018-07-10</th>\n",
       "      <td>France</td>\n",
       "      <td>Belgium</td>\n",
       "      <td>1</td>\n",
       "      <td>0</td>\n",
       "      <td>FIFA World Cup</td>\n",
       "      <td>St. Petersburg</td>\n",
       "      <td>Russia</td>\n",
       "      <td>True</td>\n",
       "      <td>1</td>\n",
       "      <td>France</td>\n",
       "    </tr>\n",
       "    <tr>\n",
       "      <th>2018-07-11</th>\n",
       "      <td>Croatia</td>\n",
       "      <td>England</td>\n",
       "      <td>2</td>\n",
       "      <td>1</td>\n",
       "      <td>FIFA World Cup</td>\n",
       "      <td>Moscow</td>\n",
       "      <td>Russia</td>\n",
       "      <td>True</td>\n",
       "      <td>3</td>\n",
       "      <td>Croatia</td>\n",
       "    </tr>\n",
       "    <tr>\n",
       "      <th>2018-07-14</th>\n",
       "      <td>Belgium</td>\n",
       "      <td>England</td>\n",
       "      <td>2</td>\n",
       "      <td>0</td>\n",
       "      <td>FIFA World Cup</td>\n",
       "      <td>St. Petersburg</td>\n",
       "      <td>Russia</td>\n",
       "      <td>True</td>\n",
       "      <td>2</td>\n",
       "      <td>Belgium</td>\n",
       "    </tr>\n",
       "    <tr>\n",
       "      <th>2018-07-15</th>\n",
       "      <td>France</td>\n",
       "      <td>Croatia</td>\n",
       "      <td>4</td>\n",
       "      <td>2</td>\n",
       "      <td>FIFA World Cup</td>\n",
       "      <td>Moscow</td>\n",
       "      <td>Russia</td>\n",
       "      <td>True</td>\n",
       "      <td>6</td>\n",
       "      <td>France</td>\n",
       "    </tr>\n",
       "  </tbody>\n",
       "</table>\n",
       "<p>900 rows × 10 columns</p>\n",
       "</div>"
      ],
      "text/plain": [
       "            home_team      away_team  home_score  away_score      tournament  \\\n",
       "date                                                                           \n",
       "1930-07-13    Belgium  United States           0           3  FIFA World Cup   \n",
       "1930-07-13     France         Mexico           4           1  FIFA World Cup   \n",
       "1930-07-14     Brazil     Yugoslavia           1           2  FIFA World Cup   \n",
       "1930-07-14       Peru        Romania           1           3  FIFA World Cup   \n",
       "1930-07-15  Argentina         France           1           0  FIFA World Cup   \n",
       "...               ...            ...         ...         ...             ...   \n",
       "2018-07-07     Russia        Croatia           2           2  FIFA World Cup   \n",
       "2018-07-10     France        Belgium           1           0  FIFA World Cup   \n",
       "2018-07-11    Croatia        England           2           1  FIFA World Cup   \n",
       "2018-07-14    Belgium        England           2           0  FIFA World Cup   \n",
       "2018-07-15     France        Croatia           4           2  FIFA World Cup   \n",
       "\n",
       "                      city  country  neutral  total_score         result  \n",
       "date                                                                      \n",
       "1930-07-13      Montevideo  Uruguay     True            3  United States  \n",
       "1930-07-13      Montevideo  Uruguay     True            5         France  \n",
       "1930-07-14      Montevideo  Uruguay     True            3     Yugoslavia  \n",
       "1930-07-14      Montevideo  Uruguay     True            4        Romania  \n",
       "1930-07-15      Montevideo  Uruguay     True            1      Argentina  \n",
       "...                    ...      ...      ...          ...            ...  \n",
       "2018-07-07           Sochi   Russia    False            4           Draw  \n",
       "2018-07-10  St. Petersburg   Russia     True            1         France  \n",
       "2018-07-11          Moscow   Russia     True            3        Croatia  \n",
       "2018-07-14  St. Petersburg   Russia     True            2        Belgium  \n",
       "2018-07-15          Moscow   Russia     True            6         France  \n",
       "\n",
       "[900 rows x 10 columns]"
      ]
     },
     "execution_count": 365,
     "metadata": {},
     "output_type": "execute_result"
    }
   ],
   "source": [
    "df_wc.set_index('date', inplace = True)\n",
    "df_wc"
   ]
  },
  {
   "cell_type": "code",
   "execution_count": 366,
   "metadata": {},
   "outputs": [
    {
     "data": {
      "text/plain": [
       "date\n",
       "1930-12-31    3.888889\n",
       "1934-12-31    4.117647\n",
       "1938-12-31    4.666667\n",
       "1942-12-31         NaN\n",
       "1946-12-31         NaN\n",
       "1950-12-31    4.000000\n",
       "1954-12-31    5.384615\n",
       "1958-12-31    3.600000\n",
       "1962-12-31    2.781250\n",
       "1966-12-31    2.781250\n",
       "1970-12-31    2.968750\n",
       "1974-12-31    2.552632\n",
       "1978-12-31    2.684211\n",
       "1982-12-31    2.807692\n",
       "1986-12-31    2.538462\n",
       "1990-12-31    2.211538\n",
       "1994-12-31    2.711538\n",
       "1998-12-31    2.671875\n",
       "2002-12-31    2.515625\n",
       "2006-12-31    2.296875\n",
       "2010-12-31    2.265625\n",
       "2014-12-31    2.671875\n",
       "2018-12-31    2.640625\n",
       "Freq: 4A-DEC, Name: total_score, dtype: float64"
      ]
     },
     "execution_count": 366,
     "metadata": {},
     "output_type": "execute_result"
    }
   ],
   "source": [
    "mean_goals_wc = df_wc['total_score'].resample('4Y').mean()\n",
    "mean_goals_wc"
   ]
  },
  {
   "cell_type": "code",
   "execution_count": 367,
   "metadata": {},
   "outputs": [
    {
     "data": {
      "text/plain": [
       "'The FIFA World Cup competition occurs every four years however it seems during 1942 and 1946, the competition never\\ntook place. Upon research it seems that the hosting country for 1942 was disputed by the South American teams\\nand the 1946 never took place due to the war the previous year.'"
      ]
     },
     "execution_count": 367,
     "metadata": {},
     "output_type": "execute_result"
    }
   ],
   "source": [
    "'''The FIFA World Cup competition occurs every four years however it seems during 1942 and 1946, the competition never\n",
    "took place. Upon research it seems that the hosting country for 1942 was disputed by the South American teams\n",
    "and the 1946 never took place due to the war the previous year.'''"
   ]
  },
  {
   "cell_type": "code",
   "execution_count": 368,
   "metadata": {},
   "outputs": [
    {
     "data": {
      "text/plain": [
       "date\n",
       "1930-12-31    3.888889\n",
       "1934-12-31    4.117647\n",
       "1938-12-31    4.666667\n",
       "1950-12-31    4.000000\n",
       "1954-12-31    5.384615\n",
       "1958-12-31    3.600000\n",
       "1962-12-31    2.781250\n",
       "1966-12-31    2.781250\n",
       "1970-12-31    2.968750\n",
       "1974-12-31    2.552632\n",
       "1978-12-31    2.684211\n",
       "1982-12-31    2.807692\n",
       "1986-12-31    2.538462\n",
       "1990-12-31    2.211538\n",
       "1994-12-31    2.711538\n",
       "1998-12-31    2.671875\n",
       "2002-12-31    2.515625\n",
       "2006-12-31    2.296875\n",
       "2010-12-31    2.265625\n",
       "2014-12-31    2.671875\n",
       "2018-12-31    2.640625\n",
       "Name: total_score, dtype: float64"
      ]
     },
     "execution_count": 368,
     "metadata": {},
     "output_type": "execute_result"
    }
   ],
   "source": [
    "cleaned_mean_goals_wc = mean_goals_wc.dropna()\n",
    "\n",
    "cleaned_mean_goals_wc"
   ]
  },
  {
   "cell_type": "code",
   "execution_count": 369,
   "metadata": {},
   "outputs": [
    {
     "data": {
      "text/plain": [
       "<matplotlib.axes._subplots.AxesSubplot at 0x1a2bfc7fd0>"
      ]
     },
     "execution_count": 369,
     "metadata": {},
     "output_type": "execute_result"
    },
    {
     "data": {
      "image/png": "[encoded data removed]",
      "text/plain": [
       "<Figure size 720x360 with 1 Axes>"
      ]
     },
     "metadata": {
      "needs_background": "light"
     },
     "output_type": "display_data"
    }
   ],
   "source": [
    "cleaned_mean_goals_wc.plot.line(title = 'Average goals per game each World Cup', color = 'm', figsize=(10,5))"
   ]
  },
  {
   "cell_type": "code",
   "execution_count": 370,
   "metadata": {},
   "outputs": [
    {
     "data": {
      "text/plain": [
       "'4. AVERAGE GOALS SCORED PER GAME IN EACH EUROS'"
      ]
     },
     "execution_count": 370,
     "metadata": {},
     "output_type": "execute_result"
    }
   ],
   "source": [
    "'''4. AVERAGE GOALS SCORED PER GAME IN EACH EUROS'''"
   ]
  },
  {
   "cell_type": "code",
   "execution_count": 371,
   "metadata": {},
   "outputs": [
    {
     "data": {
      "text/html": [
       "<div>\n",
       "<style scoped>\n",
       "    .dataframe tbody tr th:only-of-type {\n",
       "        vertical-align: middle;\n",
       "    }\n",
       "\n",
       "    .dataframe tbody tr th {\n",
       "        vertical-align: top;\n",
       "    }\n",
       "\n",
       "    .dataframe thead th {\n",
       "        text-align: right;\n",
       "    }\n",
       "</style>\n",
       "<table border=\"1\" class=\"dataframe\">\n",
       "  <thead>\n",
       "    <tr style=\"text-align: right;\">\n",
       "      <th></th>\n",
       "      <th>home_team</th>\n",
       "      <th>away_team</th>\n",
       "      <th>home_score</th>\n",
       "      <th>away_score</th>\n",
       "      <th>tournament</th>\n",
       "      <th>city</th>\n",
       "      <th>country</th>\n",
       "      <th>neutral</th>\n",
       "      <th>total_score</th>\n",
       "      <th>result</th>\n",
       "    </tr>\n",
       "    <tr>\n",
       "      <th>date</th>\n",
       "      <th></th>\n",
       "      <th></th>\n",
       "      <th></th>\n",
       "      <th></th>\n",
       "      <th></th>\n",
       "      <th></th>\n",
       "      <th></th>\n",
       "      <th></th>\n",
       "      <th></th>\n",
       "      <th></th>\n",
       "    </tr>\n",
       "  </thead>\n",
       "  <tbody>\n",
       "    <tr>\n",
       "      <th>1960-07-06</th>\n",
       "      <td>Czechoslovakia</td>\n",
       "      <td>Russia</td>\n",
       "      <td>0</td>\n",
       "      <td>3</td>\n",
       "      <td>UEFA Euro</td>\n",
       "      <td>Marseille</td>\n",
       "      <td>France</td>\n",
       "      <td>True</td>\n",
       "      <td>3</td>\n",
       "      <td>Russia</td>\n",
       "    </tr>\n",
       "    <tr>\n",
       "      <th>1960-07-06</th>\n",
       "      <td>France</td>\n",
       "      <td>Yugoslavia</td>\n",
       "      <td>4</td>\n",
       "      <td>5</td>\n",
       "      <td>UEFA Euro</td>\n",
       "      <td>Paris</td>\n",
       "      <td>France</td>\n",
       "      <td>False</td>\n",
       "      <td>9</td>\n",
       "      <td>Yugoslavia</td>\n",
       "    </tr>\n",
       "    <tr>\n",
       "      <th>1960-07-09</th>\n",
       "      <td>France</td>\n",
       "      <td>Czechoslovakia</td>\n",
       "      <td>0</td>\n",
       "      <td>2</td>\n",
       "      <td>UEFA Euro</td>\n",
       "      <td>Marseille</td>\n",
       "      <td>France</td>\n",
       "      <td>False</td>\n",
       "      <td>2</td>\n",
       "      <td>Czechoslovakia</td>\n",
       "    </tr>\n",
       "    <tr>\n",
       "      <th>1960-07-10</th>\n",
       "      <td>Russia</td>\n",
       "      <td>Yugoslavia</td>\n",
       "      <td>2</td>\n",
       "      <td>1</td>\n",
       "      <td>UEFA Euro</td>\n",
       "      <td>Paris</td>\n",
       "      <td>France</td>\n",
       "      <td>True</td>\n",
       "      <td>3</td>\n",
       "      <td>Russia</td>\n",
       "    </tr>\n",
       "    <tr>\n",
       "      <th>1964-06-17</th>\n",
       "      <td>Denmark</td>\n",
       "      <td>Russia</td>\n",
       "      <td>0</td>\n",
       "      <td>3</td>\n",
       "      <td>UEFA Euro</td>\n",
       "      <td>Barcelona</td>\n",
       "      <td>Spain</td>\n",
       "      <td>True</td>\n",
       "      <td>3</td>\n",
       "      <td>Russia</td>\n",
       "    </tr>\n",
       "    <tr>\n",
       "      <th>...</th>\n",
       "      <td>...</td>\n",
       "      <td>...</td>\n",
       "      <td>...</td>\n",
       "      <td>...</td>\n",
       "      <td>...</td>\n",
       "      <td>...</td>\n",
       "      <td>...</td>\n",
       "      <td>...</td>\n",
       "      <td>...</td>\n",
       "      <td>...</td>\n",
       "    </tr>\n",
       "    <tr>\n",
       "      <th>2016-07-02</th>\n",
       "      <td>Germany</td>\n",
       "      <td>Italy</td>\n",
       "      <td>1</td>\n",
       "      <td>1</td>\n",
       "      <td>UEFA Euro</td>\n",
       "      <td>Bordeaux</td>\n",
       "      <td>France</td>\n",
       "      <td>True</td>\n",
       "      <td>2</td>\n",
       "      <td>Draw</td>\n",
       "    </tr>\n",
       "    <tr>\n",
       "      <th>2016-07-03</th>\n",
       "      <td>France</td>\n",
       "      <td>Iceland</td>\n",
       "      <td>5</td>\n",
       "      <td>2</td>\n",
       "      <td>UEFA Euro</td>\n",
       "      <td>Saint-Denis</td>\n",
       "      <td>France</td>\n",
       "      <td>False</td>\n",
       "      <td>7</td>\n",
       "      <td>France</td>\n",
       "    </tr>\n",
       "    <tr>\n",
       "      <th>2016-07-06</th>\n",
       "      <td>Portugal</td>\n",
       "      <td>Wales</td>\n",
       "      <td>2</td>\n",
       "      <td>0</td>\n",
       "      <td>UEFA Euro</td>\n",
       "      <td>Lyon</td>\n",
       "      <td>France</td>\n",
       "      <td>True</td>\n",
       "      <td>2</td>\n",
       "      <td>Portugal</td>\n",
       "    </tr>\n",
       "    <tr>\n",
       "      <th>2016-07-07</th>\n",
       "      <td>France</td>\n",
       "      <td>Germany</td>\n",
       "      <td>2</td>\n",
       "      <td>0</td>\n",
       "      <td>UEFA Euro</td>\n",
       "      <td>Marseille</td>\n",
       "      <td>France</td>\n",
       "      <td>False</td>\n",
       "      <td>2</td>\n",
       "      <td>France</td>\n",
       "    </tr>\n",
       "    <tr>\n",
       "      <th>2016-07-10</th>\n",
       "      <td>France</td>\n",
       "      <td>Portugal</td>\n",
       "      <td>0</td>\n",
       "      <td>1</td>\n",
       "      <td>UEFA Euro</td>\n",
       "      <td>Saint-Denis</td>\n",
       "      <td>France</td>\n",
       "      <td>False</td>\n",
       "      <td>1</td>\n",
       "      <td>Portugal</td>\n",
       "    </tr>\n",
       "  </tbody>\n",
       "</table>\n",
       "<p>286 rows × 10 columns</p>\n",
       "</div>"
      ],
      "text/plain": [
       "                 home_team       away_team  home_score  away_score tournament  \\\n",
       "date                                                                            \n",
       "1960-07-06  Czechoslovakia          Russia           0           3  UEFA Euro   \n",
       "1960-07-06          France      Yugoslavia           4           5  UEFA Euro   \n",
       "1960-07-09          France  Czechoslovakia           0           2  UEFA Euro   \n",
       "1960-07-10          Russia      Yugoslavia           2           1  UEFA Euro   \n",
       "1964-06-17         Denmark          Russia           0           3  UEFA Euro   \n",
       "...                    ...             ...         ...         ...        ...   \n",
       "2016-07-02         Germany           Italy           1           1  UEFA Euro   \n",
       "2016-07-03          France         Iceland           5           2  UEFA Euro   \n",
       "2016-07-06        Portugal           Wales           2           0  UEFA Euro   \n",
       "2016-07-07          France         Germany           2           0  UEFA Euro   \n",
       "2016-07-10          France        Portugal           0           1  UEFA Euro   \n",
       "\n",
       "                   city country  neutral  total_score          result  \n",
       "date                                                                   \n",
       "1960-07-06    Marseille  France     True            3          Russia  \n",
       "1960-07-06        Paris  France    False            9      Yugoslavia  \n",
       "1960-07-09    Marseille  France    False            2  Czechoslovakia  \n",
       "1960-07-10        Paris  France     True            3          Russia  \n",
       "1964-06-17    Barcelona   Spain     True            3          Russia  \n",
       "...                 ...     ...      ...          ...             ...  \n",
       "2016-07-02     Bordeaux  France     True            2            Draw  \n",
       "2016-07-03  Saint-Denis  France    False            7          France  \n",
       "2016-07-06         Lyon  France     True            2        Portugal  \n",
       "2016-07-07    Marseille  France    False            2          France  \n",
       "2016-07-10  Saint-Denis  France    False            1        Portugal  \n",
       "\n",
       "[286 rows x 10 columns]"
      ]
     },
     "execution_count": 371,
     "metadata": {},
     "output_type": "execute_result"
    }
   ],
   "source": [
    "df_euros.set_index('date', inplace = True)\n",
    "df_euros"
   ]
  },
  {
   "cell_type": "code",
   "execution_count": 372,
   "metadata": {},
   "outputs": [
    {
     "data": {
      "text/plain": [
       "<matplotlib.axes._subplots.AxesSubplot at 0x1a2960bbd0>"
      ]
     },
     "execution_count": 372,
     "metadata": {},
     "output_type": "execute_result"
    },
    {
     "data": {
      "image/png": "[encoded data removed]",
      "text/plain": [
       "<Figure size 720x360 with 1 Axes>"
      ]
     },
     "metadata": {
      "needs_background": "light"
     },
     "output_type": "display_data"
    }
   ],
   "source": [
    "mean_goals_euros = df_euros['total_score'].resample('4Y').mean()\n",
    "mean_goals_euros.plot.line(title = 'Average goals per game each Euros', color = 'm', figsize=(10,5))"
   ]
  },
  {
   "cell_type": "code",
   "execution_count": 373,
   "metadata": {},
   "outputs": [
    {
     "data": {
      "text/plain": [
       "<matplotlib.axes._subplots.AxesSubplot at 0x1a29da2e90>"
      ]
     },
     "execution_count": 373,
     "metadata": {},
     "output_type": "execute_result"
    },
    {
     "data": {
      "image/png": "[encoded data removed]",
      "text/plain": [
       "<Figure size 1080x360 with 1 Axes>"
      ]
     },
     "metadata": {
      "needs_background": "light"
     },
     "output_type": "display_data"
    }
   ],
   "source": [
    "ax = cleaned_mean_goals_wc.plot()\n",
    "mean_goals_euros.plot(ax=ax, figsize = (15,5))\n"
   ]
  },
  {
   "cell_type": "code",
   "execution_count": 374,
   "metadata": {},
   "outputs": [
    {
     "data": {
      "text/plain": [
       "' WHICH COUNTRIES WIN THE MOST AT HOME AND WHICH COUNTRIES WIN THE MOST BEING THE AWAY TEAM'"
      ]
     },
     "execution_count": 374,
     "metadata": {},
     "output_type": "execute_result"
    }
   ],
   "source": [
    "''' WHICH COUNTRIES WIN THE MOST AT HOME AND WHICH COUNTRIES WIN THE MOST BEING THE AWAY TEAM'''"
   ]
  },
  {
   "cell_type": "code",
   "execution_count": 375,
   "metadata": {},
   "outputs": [
    {
     "data": {
      "text/plain": [
       "<matplotlib.axes._subplots.AxesSubplot at 0x1a284795d0>"
      ]
     },
     "execution_count": 375,
     "metadata": {},
     "output_type": "execute_result"
    },
    {
     "data": {
      "image/png": "[encoded data removed]",
      "text/plain": [
       "<Figure size 1152x432 with 1 Axes>"
      ]
     },
     "metadata": {
      "needs_background": "light"
     },
     "output_type": "display_data"
    }
   ],
   "source": [
    "# We have to account for neutral venues in which case the home team isn't necessarily the home team\n",
    "\n",
    "home_win = df.loc[(df.home_team == df.result) & (df.home_team == df.country) & (df.neutral == False)]\n",
    "\n",
    "home_win['result'].value_counts().head(20)\n",
    "\n",
    "home_win.set_index('date', inplace = True)\n",
    "\n",
    "home_win['result'].value_counts().head(20).plot.bar(figsize = (16,6), color='y')"
   ]
  },
  {
   "cell_type": "code",
   "execution_count": 376,
   "metadata": {},
   "outputs": [
    {
     "data": {
      "text/plain": [
       "<matplotlib.axes._subplots.AxesSubplot at 0x1a27f51150>"
      ]
     },
     "execution_count": 376,
     "metadata": {},
     "output_type": "execute_result"
    },
    {
     "data": {
      "image/png": "[encoded data removed]",
      "text/plain": [
       "<Figure size 1152x432 with 1 Axes>"
      ]
     },
     "metadata": {
      "needs_background": "light"
     },
     "output_type": "display_data"
    }
   ],
   "source": [
    "away_win = df.loc[(df.away_team == df.result) & (df.home_team == df.country) & (df.neutral == False)]\n",
    "\n",
    "away_win['result'].value_counts().head(20)\n",
    "\n",
    "away_win.set_index('date', inplace = True)\n",
    "\n",
    "away_win['result'].value_counts().head(20).plot.bar(figsize = (16,6), color='r')"
   ]
  },
  {
   "cell_type": "code",
   "execution_count": 377,
   "metadata": {},
   "outputs": [
    {
     "data": {
      "image/png": "[encoded data removed]",
      "text/plain": [
       "<Figure size 432x288 with 1 Axes>"
      ]
     },
     "metadata": {},
     "output_type": "display_data"
    }
   ],
   "source": [
    "# Percentage comparison of victories of home teams and away teams\n",
    "\n",
    "df_total_home_wins = df.loc[(df.home_team == df.result) & (df.home_team == df.country)]\n",
    "\n",
    "totH = len(df_total_home_wins['result'])\n",
    "\n",
    "df_total_away_wins = df.loc[(df.away_team == df.result) & (df.away_team != df.country)]\n",
    "\n",
    "totA = len(df_total_away_wins['result'])\n",
    "\n",
    "tot = totH + totA\n",
    "\n",
    "H = totH / tot\n",
    "A = totA / tot\n",
    "\n",
    "\n",
    "labels = ['Home Wins', 'Away Wins']\n",
    "sizes = [H, A]\n",
    "explode = (0, 0.1)\n",
    "\n",
    "fig1, ax1 = plt.subplots()\n",
    "ax1.pie(sizes, explode=explode, labels=labels, autopct='%1.1f%%',\n",
    "        shadow=True, startangle=90,)\n",
    "ax1.axis('equal')\n",
    "\n",
    "plt.show()"
   ]
  }
 ],
 "metadata": {
  "kernelspec": {
   "display_name": "Python 3",
   "language": "python",
   "name": "python3"
  },
  "language_info": {
   "codemirror_mode": {
    "name": "ipython",
    "version": 3
   },
   "file_extension": ".py",
   "mimetype": "text/x-python",
   "name": "python",
   "nbconvert_exporter": "python",
   "pygments_lexer": "ipython3",
   "version": "3.7.6"
  }
 },
 "nbformat": 4,
 "nbformat_minor": 4
}
